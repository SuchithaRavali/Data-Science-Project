{
 "cells": [
  {
   "cell_type": "code",
   "execution_count": null,
   "metadata": {},
   "outputs": [],
   "source": []
  },
  {
   "cell_type": "markdown",
   "metadata": {},
   "source": [
    "# H1: Data Science Tools and Ecosystem"
   ]
  },
  {
   "cell_type": "markdown",
   "metadata": {},
   "source": [
    "In this notebook, Data Science Tools and Ecosystem are summarized."
   ]
  },
  {
   "cell_type": "markdown",
   "metadata": {},
   "source": [
    "**Objectives:**\n",
    "\n",
    "popular languages for Data Science:\n",
    "\n",
    "* Python\n",
    "* R\n",
    "* SQL\n",
    "\n",
    "popular tools used:\n",
    "\n",
    "+ Microsoft Power BI\n",
    "+ Tableau\n",
    "+ Apache Hadoop\n",
    "+ Apache Spark\n",
    "\n",
    "popular cloud service models:\n",
    "\n",
    "- IaaS\n",
    "- PaaS\n",
    "- SaaS"
   ]
  },
  {
   "cell_type": "markdown",
   "metadata": {},
   "source": [
    "Some of the popular languages that Data Scientists use are:\n",
    "1. Python\n",
    "2. R\n",
    "3. SQL\n",
    "4. Javascript\n"
   ]
  },
  {
   "cell_type": "markdown",
   "metadata": {},
   "source": [
    "Some of the commonly used libraries used by Data Scientists include:\n",
    "\n",
    "For Python- \n",
    "\n",
    "1. NumPy- perfect tool for scientific computing and performing basic and advanced array operations.\n",
    "2. Pandas- Pandas allows converting data structures to DataFrame objects, handling missing data, and adding/deleting columns from DataFrame, imputing missing files, and plotting data with histogram or plot box.\n",
    "3. PyTorch- for creating dynamic computational graphs and calculating gradients automatically.\n",
    "4. SciPy- This useful library includes modules for linear algebra, integration, optimization, and statistics.\n",
    "6. Scikit-Learn- Data scientists use it for handling standard machine learning and data mining tasks such as clustering, regression, model selection, dimensionality reduction, and classification.\n",
    "7. TensorFlow-  for tasks like object identification, speech recognition, and many others. It helps in working with artificial neural networks that need to handle multiple data sets.\n",
    "8. Matplotlib-  two-dimensional diagrams and graphs\n",
    "9. Seaborn- or visualizing statistical models – heatmaps and other types of visualizations that summarize data and depict the overall distributions.\n",
    "11. Keras- for building neural networks and modeling.\n",
    "\n",
    "For R: \n",
    "1. ggplot2- high-quality graphs\n",
    "2. dplyr- data manipulation library\n",
    "3. Shiny- build interactive web applications\n",
    "4. mlr3- Supervised and Unsupervised Machine learning models on Scikit-learn like Classification, Regression, Support Vector Machines, Random Forests, Nearest Neighbors, Naive Bayes, Decision Trees, Clustering, etc.\n",
    "5. plotly- creating charts "
   ]
  },
  {
   "cell_type": "markdown",
   "metadata": {},
   "source": [
    "| Data Science Tools |\n",
    "| ------- |\n",
    "| Tableau |\n",
    "| MySQL |\n",
    "| Microsoft Power BI |"
   ]
  },
  {
   "cell_type": "markdown",
   "metadata": {},
   "source": [
    "### H3:  Below are a few examples of evaluating arithmetic expressions in Python:"
   ]
  },
  {
   "cell_type": "code",
   "execution_count": 7,
   "metadata": {},
   "outputs": [
    {
     "data": {
      "text/plain": [
       "17"
      ]
     },
     "execution_count": 7,
     "metadata": {},
     "output_type": "execute_result"
    }
   ],
   "source": [
    "# This a simple arithmetic expression to mutiply then add integers\n",
    "(3*4)+5"
   ]
  },
  {
   "cell_type": "code",
   "execution_count": 8,
   "metadata": {},
   "outputs": [
    {
     "data": {
      "text/plain": [
       "3.3333333333333335"
      ]
     },
     "execution_count": 8,
     "metadata": {},
     "output_type": "execute_result"
    }
   ],
   "source": [
    "# This will convert 200 minutes to hours by diving by 60\n",
    "200/60"
   ]
  },
  {
   "cell_type": "markdown",
   "metadata": {},
   "source": [
    "## H2: Author\n",
    "Suchitha Volety\n"
   ]
  },
  {
   "cell_type": "markdown",
   "metadata": {},
   "source": []
  }
 ],
 "metadata": {
  "kernelspec": {
   "display_name": "base",
   "language": "python",
   "name": "python3"
  },
  "language_info": {
   "codemirror_mode": {
    "name": "ipython",
    "version": 3
   },
   "file_extension": ".py",
   "mimetype": "text/x-python",
   "name": "python",
   "nbconvert_exporter": "python",
   "pygments_lexer": "ipython3",
   "version": "3.12.4"
  }
 },
 "nbformat": 4,
 "nbformat_minor": 2
}
